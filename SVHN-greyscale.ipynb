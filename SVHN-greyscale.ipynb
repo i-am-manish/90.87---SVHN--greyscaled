{
  "cells": [
    {
      "metadata": {
        "_uuid": "8f2839f25d086af736a60e9eeb907d3b93b6e0e5",
        "_cell_guid": "b1076dfc-b9ad-4769-8c92-a6c4dae69d19",
        "trusted": true
      },
      "cell_type": "code",
      "source": "import keras\nfrom keras.layers import Dense,Conv2D,MaxPool2D,Activation, Dropout, Flatten, Dense,BatchNormalization,Input\nfrom keras.models import Sequential,Model\nfrom keras.optimizers import RMSprop\nimport pandas as pd\nimport numpy as np\nimport glob #glob to read zip files\nhousenumbers = glob.glob('../input/housenumbers/*') #glob to read zip files\nhousenumbers\n",
      "execution_count": 152,
      "outputs": [
        {
          "output_type": "execute_result",
          "execution_count": 152,
          "data": {
            "text/plain": "['../input/housenumbers/test_images.csv',\n '../input/housenumbers/train_images_2.csv',\n '../input/housenumbers/extra_images.csv',\n '../input/housenumbers/test_labels_2.csv',\n '../input/housenumbers/train_labels_2.csv',\n '../input/housenumbers/extra_labels_2.csv',\n '../input/housenumbers/test_images_2.csv',\n '../input/housenumbers/extra_images_2.csv',\n '../input/housenumbers/train_labels.csv',\n '../input/housenumbers/train_images.csv',\n '../input/housenumbers/extra_labels.csv',\n '../input/housenumbers/test_labels.csv']"
          },
          "metadata": {}
        }
      ]
    },
    {
      "metadata": {
        "_cell_guid": "79c7e3d0-c299-4dcb-8224-4455121ee9b0",
        "_uuid": "d629ff2d2480ee46fbb7e2d37f6b5fab8052498a",
        "trusted": true,
        "collapsed": true
      },
      "cell_type": "code",
      "source": "#orgainze\nx=train_images = pd.read_csv('../input/housenumbers/train_images.csv')\ny=train_labels = pd.read_csv('../input/housenumbers/train_labels.csv')\n\ntest_images = pd.read_csv('../input/housenumbers/test_images.csv')\nyt=test_labels = pd.read_csv('../input/housenumbers/test_labels.csv')",
      "execution_count": 153,
      "outputs": []
    },
    {
      "metadata": {
        "trusted": true,
        "_uuid": "537753d64324abddc3bdf0b5e657d65eedd512b7"
      },
      "cell_type": "code",
      "source": "print(x.shape)\nx=x.drop(labels=[\"filename\"],axis=1)\nprint(x.shape)\nx=x.values.reshape(13000,32,32,1)\nprint(x.shape)\ny=y.drop(labels=[\"filename\"],axis=1)\nprint(y.shape)\ny=keras.utils.to_categorical(y,11) #11-outputs #check data info(10+empty)\nprint(y.shape)\ny = [y[:, i] for i in range(5)]\n\n\n\n\n",
      "execution_count": 154,
      "outputs": [
        {
          "output_type": "stream",
          "text": "(13000, 1025)\n(13000, 1024)\n(13000, 32, 32, 1)\n(13000, 5)\n(13000, 5, 11)\n",
          "name": "stdout"
        }
      ]
    },
    {
      "metadata": {
        "trusted": true,
        "_uuid": "99b5934d65b53f15c5899cef6286003194c54783",
        "collapsed": true
      },
      "cell_type": "code",
      "source": "#test sets\ntest_images=test_images.drop(labels=[\"filename\"],axis=1)\ntest_images=test_images.values.reshape(6000,32,32,1)\nyt=yt.drop(labels=[\"filename\"],axis=1)\nyt=keras.utils.to_categorical(yt,11)\nyt = [yt[:, i] for i in range(5)]\n\n\n",
      "execution_count": 155,
      "outputs": []
    },
    {
      "metadata": {
        "trusted": true,
        "_uuid": "493c7545f69aa9a5108739646f5709270a86ba8a",
        "collapsed": true
      },
      "cell_type": "code",
      "source": "def model():    \n    model_input = Input(shape=(32, 32, 1))\n    x = BatchNormalization()(model_input)\n    x = Conv2D(32, (3, 3), activation='relu', padding='same')(model_input)\n    x = MaxPool2D(pool_size=(2, 2))(x) \n    x = Conv2D(32, (3, 3), activation='relu')(x)\n    x = MaxPool2D(pool_size=(2, 2))(x)    \n    x = Dropout(0.25)(x)\n    x = Conv2D(64, (3, 3), activation='relu')(x)       \n    x = Conv2D(64, (3, 3), activation='relu')(x)    \n    x = Dropout(0.25)(x)\n    x = Conv2D(128, (3, 3), activation='relu')(x)    \n    x = Dropout(0.25)(x)\n    x = Flatten()(x)\n    x = Dense(512, activation='relu')(x)    \n    x = Dropout(0.5)(x)\n    \n    y1 = Dense(11, activation='softmax')(x)\n    y2 = Dense(11, activation='softmax')(x)\n    y3 = Dense(11, activation='softmax')(x)\n    y4 = Dense(11, activation='softmax')(x)\n    y5 = Dense(11, activation='softmax')(x)\n    \n    model = Model(input=model_input, output=[y1, y2, y3, y4, y5])\n\n    model.compile(loss='categorical_crossentropy', optimizer='adam', metrics=['accuracy'])\n    return model",
      "execution_count": 156,
      "outputs": []
    },
    {
      "metadata": {
        "trusted": true,
        "_uuid": "610695538355ffa345e27efb2b797fac6aeb3a65"
      },
      "cell_type": "code",
      "source": "cnn_model = model()\ncnn_history = cnn_model.fit(x,y,validation_split=0.2,epochs=40, batch_size=128, verbose=0)",
      "execution_count": 157,
      "outputs": [
        {
          "output_type": "stream",
          "text": "/opt/conda/lib/python3.6/site-packages/ipykernel_launcher.py:24: UserWarning: Update your `Model` call to the Keras 2 API: `Model(inputs=Tensor(\"in..., outputs=[<tf.Tenso...)`\n",
          "name": "stderr"
        }
      ]
    },
    {
      "metadata": {
        "trusted": true,
        "_uuid": "a25c987c1103eced616f986fd6d55a8bbf67a73a"
      },
      "cell_type": "code",
      "source": "cnn_scores = cnn_model.evaluate(test_images, yt, verbose=0)\nprint(cnn_scores)\nprint(\"First digit. Accuracy:\", (cnn_scores[6]))\nprint(\"Second digit. Accuracy:\", (cnn_scores[7]))\nprint(\"Third digit. Accuracy:\",(cnn_scores[8]))\nprint(\"Fourth digit. Accuracy:\",(cnn_scores[9]))\nprint(\"Fifth digit. Accuracy:\",(cnn_scores[10]))\navg_accuracy = sum([cnn_scores[i] for i in range(6, 11)])/5\nprint(\"CNN Model. Average Accuracy:\",(avg_accuracy))",
      "execution_count": 160,
      "outputs": [
        {
          "output_type": "stream",
          "text": "[1.5352268851598103, 0.00216308279118554, 0.040740502770834915, 0.25799187062184015, 0.5701259262561799, 0.6642055109341939, 0.9998333333333334, 0.9908333333333333, 0.9276666666666666, 0.825, 0.8001666666666667]\nFirst digit. Accuracy: 0.9998333333333334\nSecond digit. Accuracy: 0.9908333333333333\nThird digit. Accuracy: 0.9276666666666666\nFourth digit. Accuracy: 0.825\nFifth digit. Accuracy: 0.8001666666666667\nCNN Model. Average Accuracy: 0.9087\n",
          "name": "stdout"
        }
      ]
    },
    {
      "metadata": {
        "trusted": true,
        "_uuid": "468eeae32ca435a5e37510d327d5470ea4927d76"
      },
      "cell_type": "code",
      "source": "ei=extra_images= pd.read_csv('../input/housenumbers/extra_images_2.csv')\nel=extra_labels= pd.read_csv('../input/housenumbers/extra_labels_2.csv')\nei=ei.drop(labels=[\"filename\"],axis=1)\nei=ei.values.reshape(13000,32,32,1)\nel=el.drop(labels=[\"filename\"],axis=1)\nel=keras.utils.to_categorical(el,11)\nel = [el[:, i] for i in range(5)]\nc=cnn_model.evaluate(ei,el)\nprint (c)\navg_acc = sum([cnn_scores[i] for i in range(6, 11)])/5\nprint(\"CNN Model. Average Accuracy:\",(avg_acc))\n\n",
      "execution_count": 174,
      "outputs": [
        {
          "output_type": "stream",
          "text": "13000/13000 [==============================] - 2s 185us/step\n[2.1495498599272507, 0.004338441382269453, 0.14109404503267545, 0.7150030561043665, 0.6160355521899004, 0.6730787638517527, 0.9993846153846154, 0.9632307692307692, 0.771, 0.8086923076923077, 0.7813846153846153]\nCNN Model. Average Accuracy: 0.9087\n",
          "name": "stdout"
        }
      ]
    },
    {
      "metadata": {
        "trusted": true,
        "collapsed": true,
        "_uuid": "ccf899a63bc63cc6d674f2fd50e2c0d97cdcb362"
      },
      "cell_type": "code",
      "source": "",
      "execution_count": null,
      "outputs": []
    }
  ],
  "metadata": {
    "kernelspec": {
      "display_name": "Python 3",
      "language": "python",
      "name": "python3"
    },
    "language_info": {
      "name": "python",
      "version": "3.6.4",
      "mimetype": "text/x-python",
      "codemirror_mode": {
        "name": "ipython",
        "version": 3
      },
      "pygments_lexer": "ipython3",
      "nbconvert_exporter": "python",
      "file_extension": ".py"
    }
  },
  "nbformat": 4,
  "nbformat_minor": 1
}